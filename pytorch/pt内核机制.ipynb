{
 "cells": [
  {
   "attachments": {},
   "cell_type": "markdown",
   "metadata": {},
   "source": [
    "pt 使用动态计算图\n",
    "> PyTorch 使用一种称之为 imperative / eager 的范式，即每一行代码都要求构建一个图以定义完整计算图的一个部分。即使完整的计算图还没有完成构建，我们也可以独立地执行这些作为组件的小计算图，这种动态计算图被称为「define-by-run」方法。\n",
    "\n",
    "![image.png](https://image.jiqizhixin.com/uploads/editor/b6aea2ac-a4b4-4314-8b18-c1b4a1a79ca4/640.gif)"
   ]
  },
  {
   "attachments": {},
   "cell_type": "markdown",
   "metadata": {},
   "source": []
  },
  {
   "cell_type": "code",
   "execution_count": null,
   "metadata": {},
   "outputs": [],
   "source": [
    "i = 0\n",
    "while i<3:\n",
    "    if i==2:\n",
    "        break\n",
    "    print(i)\n",
    "    i +=1\n",
    "else:\n",
    "    print('!!!')"
   ]
  },
  {
   "cell_type": "code",
   "execution_count": 9,
   "metadata": {},
   "outputs": [
    {
     "data": {
      "text/html": [
       "<div>\n",
       "<style scoped>\n",
       "    .dataframe tbody tr th:only-of-type {\n",
       "        vertical-align: middle;\n",
       "    }\n",
       "\n",
       "    .dataframe tbody tr th {\n",
       "        vertical-align: top;\n",
       "    }\n",
       "\n",
       "    .dataframe thead th {\n",
       "        text-align: right;\n",
       "    }\n",
       "</style>\n",
       "<table border=\"1\" class=\"dataframe\">\n",
       "  <thead>\n",
       "    <tr style=\"text-align: right;\">\n",
       "      <th></th>\n",
       "      <th>0</th>\n",
       "      <th>1</th>\n",
       "      <th>2</th>\n",
       "      <th>3</th>\n",
       "      <th>4</th>\n",
       "      <th>5</th>\n",
       "      <th>6</th>\n",
       "      <th>7</th>\n",
       "      <th>8</th>\n",
       "      <th>9</th>\n",
       "      <th>...</th>\n",
       "      <th>0</th>\n",
       "      <th>1</th>\n",
       "      <th>2</th>\n",
       "      <th>3</th>\n",
       "      <th>4</th>\n",
       "      <th>5</th>\n",
       "      <th>6</th>\n",
       "      <th>7</th>\n",
       "      <th>8</th>\n",
       "      <th>9</th>\n",
       "    </tr>\n",
       "  </thead>\n",
       "  <tbody>\n",
       "    <tr>\n",
       "      <th>0</th>\n",
       "      <td>1</td>\n",
       "      <td>1</td>\n",
       "      <td>1</td>\n",
       "      <td>1</td>\n",
       "      <td>1</td>\n",
       "      <td>1</td>\n",
       "      <td>1</td>\n",
       "      <td>1</td>\n",
       "      <td>1</td>\n",
       "      <td>1</td>\n",
       "      <td>...</td>\n",
       "      <td>1</td>\n",
       "      <td>1</td>\n",
       "      <td>1</td>\n",
       "      <td>1</td>\n",
       "      <td>1</td>\n",
       "      <td>1</td>\n",
       "      <td>1</td>\n",
       "      <td>1</td>\n",
       "      <td>1</td>\n",
       "      <td>1</td>\n",
       "    </tr>\n",
       "    <tr>\n",
       "      <th>1</th>\n",
       "      <td>1</td>\n",
       "      <td>🌙</td>\n",
       "      <td>2</td>\n",
       "      <td>2</td>\n",
       "      <td>1</td>\n",
       "      <td>1</td>\n",
       "      <td>1</td>\n",
       "      <td>2</td>\n",
       "      <td>1</td>\n",
       "      <td>1</td>\n",
       "      <td>...</td>\n",
       "      <td>1</td>\n",
       "      <td>🌙</td>\n",
       "      <td>2</td>\n",
       "      <td>2</td>\n",
       "      <td>1</td>\n",
       "      <td>1</td>\n",
       "      <td>1</td>\n",
       "      <td>2</td>\n",
       "      <td>1</td>\n",
       "      <td>1</td>\n",
       "    </tr>\n",
       "    <tr>\n",
       "      <th>2</th>\n",
       "      <td>1</td>\n",
       "      <td>2</td>\n",
       "      <td>1</td>\n",
       "      <td>1</td>\n",
       "      <td>1</td>\n",
       "      <td>1</td>\n",
       "      <td>2</td>\n",
       "      <td>2</td>\n",
       "      <td>1</td>\n",
       "      <td>1</td>\n",
       "      <td>...</td>\n",
       "      <td>1</td>\n",
       "      <td>2</td>\n",
       "      <td>1</td>\n",
       "      <td>1</td>\n",
       "      <td>1</td>\n",
       "      <td>1</td>\n",
       "      <td>2</td>\n",
       "      <td>2</td>\n",
       "      <td>1</td>\n",
       "      <td>1</td>\n",
       "    </tr>\n",
       "  </tbody>\n",
       "</table>\n",
       "<p>3 rows × 21 columns</p>\n",
       "</div>"
      ],
      "text/plain": [
       "   0  1  2  3  4  5  6  7  8  9  ...  0  1  2  3  4  5  6  7  8  9\n",
       "0  1  1  1  1  1  1  1  1  1  1  ...  1  1  1  1  1  1  1  1  1  1\n",
       "1  1  🌙  2  2  1  1  1  2  1  1  ...  1  🌙  2  2  1  1  1  2  1  1\n",
       "2  1  2  1  1  1  1  2  2  1  1  ...  1  2  1  1  1  1  2  2  1  1\n",
       "\n",
       "[3 rows x 21 columns]"
      ]
     },
     "execution_count": 9,
     "metadata": {},
     "output_type": "execute_result"
    }
   ],
   "source": [
    "a = [[1, 1, 1, 1, 1, 1, 1, 1, 1, 1],\n",
    "[1, '🌙', 2, 2, 1, 1, 1, 2, 1, 1],\n",
    "[1, 2, 1, 1, 1, 1, 2, 2, 1, 1]]\n",
    "b = [[1, 1, 1, 1, 1, 1, 1, 1, 1, 1],\n",
    "[1, '🌙', 2, 2, 1, 1, 1, 2, 1, 1],\n",
    "[1, 2, 1, 1, 1, 1, 2, 2, 1, 1]]\n",
    "import pandas as pd\n",
    "a1 = pd.DataFrame(a)\n",
    "b1 =pd.DataFrame(b)\n",
    "pd.concat([a1,b1],axis=1)\n",
    "\n",
    "c = pd.DataFrame([['|'] for _ in range(3)])\n",
    "pd.concat([a1,c,b1],axis=1)"
   ]
  },
  {
   "cell_type": "code",
   "execution_count": 106,
   "metadata": {},
   "outputs": [
    {
     "name": "stdout",
     "output_type": "stream",
     "text": [
      "E\n",
      "A\n",
      "G\n",
      "C\n",
      "F\n",
      "B\n",
      "D\n"
     ]
    }
   ],
   "source": [
    "class BiTreeNode:\n",
    "    def __init__(self, data):\n",
    "        self.data = data\n",
    "        self.left = None  # 左孩子\n",
    "        self.right = None  # 右孩子\n",
    "\n",
    "a =BiTreeNode('A')\n",
    "b =BiTreeNode('B')\n",
    "c =BiTreeNode('C')\n",
    "d =BiTreeNode('D')\n",
    "e =BiTreeNode('E')\n",
    "f =BiTreeNode('F')\n",
    "g =BiTreeNode('G')\n",
    "\n",
    "e.right= g\n",
    "e.left = a\n",
    "a.right = c\n",
    "c.left=b\n",
    "c.right=d\n",
    "g.right=f\n",
    "\n",
    "root =e\n",
    "from collections import deque\n",
    "\n",
    "def level_order(root):\n",
    "    queue = deque()\n",
    "    queue.append(root)\n",
    "    while len(queue)>0:  #只要队不空\n",
    "        node = queue.popleft()\n",
    "        print(node.data)\n",
    "        if node.left:\n",
    "            queue.append(node.left)\n",
    "        if node.right:\n",
    "            queue.append(node.right)\n",
    "\n",
    "\n",
    "level_order(root)"
   ]
  },
  {
   "cell_type": "code",
   "execution_count": 140,
   "metadata": {},
   "outputs": [
    {
     "data": {
      "text/plain": [
       "<__main__.BiTreeNode at 0x7fab32c3ddd0>"
      ]
     },
     "execution_count": 140,
     "metadata": {},
     "output_type": "execute_result"
    }
   ],
   "source": [
    "class BiTreeNode:\n",
    "    def __init__(self,data):\n",
    "        self.data = data\n",
    "        self.lchild= None\n",
    "        self.rchild =None\n",
    "        self.parent = None\n",
    "BiTreeNode(1)"
   ]
  },
  {
   "cell_type": "code",
   "execution_count": 146,
   "metadata": {},
   "outputs": [
    {
     "name": "stdout",
     "output_type": "stream",
     "text": [
      "([2, 6, 6, 6], 56)\n"
     ]
    }
   ],
   "source": [
    "p = [0,1,5,8,9,10,17,17,20,21,23,24,26,27,27,28,30,33,36,39,40]\n",
    "\n",
    "def cut_rod_extend(p,n):\n",
    "    \"\"\"同时输出切分方案\"\"\"\n",
    "    r =[0]\n",
    "    s = [0]\n",
    "    for i in range(1,n+1):\n",
    "        res_r = 0  # 价格最大值\n",
    "        res_s = 0  # 价格最大值对应的方案的左边不切割 部分长度\n",
    "        for j in range(1, i + 1):\n",
    "            if p[j] + r[i - j]>res_r:\n",
    "                res_r = p[j] + r[i - j]\n",
    "                res_s = j\n",
    "        r.append(res_r)\n",
    "        s.append(res_s)\n",
    "    return r[n],s\n",
    "\n",
    "\n",
    "def cut_rod_solution(p,n):\n",
    "    r,s = cut_rod_extend(p,n)\n",
    "    ans = []  # 切割方案存放\n",
    "    while n>0:\n",
    "        ans.append(s[n])\n",
    "        n -= s[n]\n",
    "    return ans, r\n",
    "\n",
    "\n",
    "print(cut_rod_solution(p, 20))\n"
   ]
  },
  {
   "cell_type": "code",
   "execution_count": 158,
   "metadata": {},
   "outputs": [
    {
     "data": {
      "text/plain": [
       "'w'"
      ]
     },
     "execution_count": 158,
     "metadata": {},
     "output_type": "execute_result"
    }
   ],
   "source": [
    "a = {'s', 'w'}\n",
    "a.pop()"
   ]
  }
 ],
 "metadata": {
  "kernelspec": {
   "display_name": "Python 3",
   "language": "python",
   "name": "python3"
  },
  "language_info": {
   "codemirror_mode": {
    "name": "ipython",
    "version": 3
   },
   "file_extension": ".py",
   "mimetype": "text/x-python",
   "name": "python",
   "nbconvert_exporter": "python",
   "pygments_lexer": "ipython3",
   "version": "3.7.6"
  }
 },
 "nbformat": 4,
 "nbformat_minor": 4
}
